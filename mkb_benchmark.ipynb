{
 "cells": [
  {
   "cell_type": "markdown",
   "id": "3e7947ff-db80-4afb-a61d-b708c8db3ddc",
   "metadata": {},
   "source": [
    "# примитивный вариант решения задачи MKB\n",
    "\n",
    "автор: Александр Дьяконов (https://dyakonov.org/ag/)\n",
    "\n",
    "цель: для оценки студентов своего курса (нужно за неделю побить этот бенчмарк)\n",
    "\n",
    "* решение записано за 20 минут\n",
    "* практически нет генерации признаков\n",
    "* все категории кодируются по мощности\n",
    "* пропуски -> -1\n",
    "* одна модель - lgb\n",
    "\n",
    "результат в лидерборе 0.8889 (на момент посылки ~15 место из 100)"
   ]
  },
  {
   "cell_type": "code",
   "execution_count": 1,
   "id": "bc3393d8-99c9-44b2-8fd6-657cc085e38b",
   "metadata": {},
   "outputs": [],
   "source": [
    "import numpy as np\n",
    "import pandas as pd"
   ]
  },
  {
   "cell_type": "code",
   "execution_count": 2,
   "id": "8f537e13-4136-4120-969f-1fde6a500f7e",
   "metadata": {},
   "outputs": [
    {
     "name": "stdout",
     "output_type": "stream",
     "text": [
      "(17891, 124) (7330, 123)\n"
     ]
    }
   ],
   "source": [
    "data_train = pd.read_csv('train_dataset_hackathon_mkb.csv', encoding='cp1251', delimiter=';')\n",
    "data_test = pd.read_csv('test_dataset_hackathon_mkb.csv', encoding='cp1251', delimiter=';')\n",
    "print (data_train.shape, data_test.shape)"
   ]
  },
  {
   "cell_type": "code",
   "execution_count": 3,
   "id": "378ad637-dac9-4b87-a38a-9d4dc11e1424",
   "metadata": {},
   "outputs": [],
   "source": [
    "def makeX(data):\n",
    "    # предобработка данных\n",
    "    data['CITIZENSHIP_NAME'] = data['CITIZENSHIP_NAME'].fillna(-1).map({-1: -1, 'Российская Федерация': 4, 'Таджикистан': 3, 'Казахстан': 2, 'Армения': 1})\n",
    "    data['SEX_NAME'] = data['SEX_NAME'].fillna(0).map({0: 0, 'мужской': 1, 'женский': -1})\n",
    "    group_names = ['OKFS_GROUP', 'OKOPF_GROUP', 'OKOGU_GROUP'] + ['WORKERSRANGE', 'OKVED_CODE']\n",
    "    date_names = ['SIGN_DATE', 'DATEFIRSTREG', 'TAXREG_REGDATE', 'TAXREGPAY_REGDATE', 'BIRTHDATE']\n",
    "    for name in group_names + date_names + ['id_client']:\n",
    "        data[name] = data[name].fillna(-1)\n",
    "        tmp = data[name].value_counts()\n",
    "        tmp = tmp + 0.1 * np.random.randn(len(tmp))\n",
    "        data[name] = data[name].map(tmp)\n",
    "    data.fillna(-1, inplace=True)\n",
    "    return data"
   ]
  },
  {
   "cell_type": "code",
   "execution_count": 4,
   "id": "d0fecd59-bce3-4315-8c58-60db5a032a8e",
   "metadata": {},
   "outputs": [],
   "source": [
    "data_train = makeX(data_train) # обрабатываем обучение\n",
    "data_test = makeX(data_test) # обрабатываем тест"
   ]
  },
  {
   "cell_type": "code",
   "execution_count": 5,
   "id": "c769d199-a3fa-4feb-b9c0-6bdf1570f242",
   "metadata": {},
   "outputs": [],
   "source": [
    "y = data_train.pop('TARGET').values # целевые значения\n",
    "data_test = data_test[data_train.columns] # на всякий случай - вдруг, перемешаны столбцы"
   ]
  },
  {
   "cell_type": "code",
   "execution_count": 6,
   "id": "7eb90f9b-36f6-49df-8063-2b55c8447e58",
   "metadata": {},
   "outputs": [],
   "source": [
    "import lightgbm as lgb\n",
    "\n",
    "model = lgb.LGBMClassifier(num_leaves=31,\n",
    "                           learning_rate=0.05,\n",
    "                           n_estimators=200)"
   ]
  },
  {
   "cell_type": "code",
   "execution_count": 7,
   "id": "07a1b578-fd9c-4c51-a1cd-38127f065d5e",
   "metadata": {},
   "outputs": [],
   "source": [
    "model.fit(data_train, y)\n",
    "\n",
    "a = model.predict_proba(data_test)[:, 1] # получаем ответ"
   ]
  },
  {
   "cell_type": "code",
   "execution_count": 8,
   "id": "4f926992-193a-4f8d-a1c0-2b35a42c38b1",
   "metadata": {},
   "outputs": [],
   "source": [
    "df = pd.DataFrame({'id_contract': data_test.id_contract.values, 'TARGET': a})\n",
    "df.to_csv('ans1.csv', sep=';', index=False) # сохраняем ответ"
   ]
  }
 ],
 "metadata": {
  "kernelspec": {
   "display_name": "Python 3",
   "language": "python",
   "name": "python3"
  },
  "language_info": {
   "codemirror_mode": {
    "name": "ipython",
    "version": 3
   },
   "file_extension": ".py",
   "mimetype": "text/x-python",
   "name": "python",
   "nbconvert_exporter": "python",
   "pygments_lexer": "ipython3",
   "version": "3.7.10"
  }
 },
 "nbformat": 4,
 "nbformat_minor": 5
}
